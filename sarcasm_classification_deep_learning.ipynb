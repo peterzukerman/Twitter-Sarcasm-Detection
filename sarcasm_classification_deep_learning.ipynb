{
 "cells": [
  {
   "cell_type": "code",
   "execution_count": 1,
   "metadata": {},
   "outputs": [],
   "source": [
    "import numpy as np\n",
    "import pandas as pd\n",
    "from gensim.models.keyedvectors import KeyedVectors\n",
    "from gensim.scripts.glove2word2vec import glove2word2vec\n",
    "from tensorflow import keras\n",
    "from tensorflow.keras import layers\n",
    "from tensorflow.keras.preprocessing import text, sequence\n",
    "from tensorflow.keras.callbacks import ModelCheckpoint\n",
    "from sklearn import preprocessing\n",
    "from sklearn.model_selection import StratifiedShuffleSplit"
   ]
  },
  {
   "cell_type": "code",
   "execution_count": 2,
   "metadata": {
    "pycharm": {
     "name": "#%%\n"
    }
   },
   "outputs": [],
   "source": [
    "#glove2word2vec(glove_input_file=\"embeddings/glove/glove.twitter.27B.50d.txt\", word2vec_output_file=\"embeddings/glove/gensim_glove.twitter.27B.50d.txt\")"
   ]
  },
  {
   "cell_type": "code",
   "execution_count": 3,
   "metadata": {},
   "outputs": [],
   "source": [
    "glove_model = KeyedVectors.load_word2vec_format(\"embeddings/glove/gensim_glove.twitter.27B.50d.txt\", binary=False)"
   ]
  },
  {
   "cell_type": "code",
   "execution_count": 4,
   "metadata": {},
   "outputs": [],
   "source": [
    "with open('data/train.jsonl') as f:\n",
    "    train_data = pd.read_json(f, lines=True)\n",
    "with open('data/test.jsonl') as f:\n",
    "    test_data = pd.read_json(f, lines=True)"
   ]
  },
  {
   "cell_type": "code",
   "execution_count": 5,
   "metadata": {
    "pycharm": {
     "name": "#%%\n"
    }
   },
   "outputs": [],
   "source": [
    "le = preprocessing.LabelEncoder()\n",
    "y = le.fit_transform(train_data['label'])\n",
    "y_train = keras.utils.to_categorical(y, num_classes=2)"
   ]
  },
  {
   "cell_type": "code",
   "execution_count": 6,
   "metadata": {
    "pycharm": {
     "name": "#%%\n"
    }
   },
   "outputs": [],
   "source": [
    "train_data['context'] = train_data['context'].str.join(' ')\n",
    "test_data['context'] = test_data['context'].str.join(' ')"
   ]
  },
  {
   "cell_type": "code",
   "execution_count": 7,
   "metadata": {},
   "outputs": [],
   "source": [
    "#np.percentile([len(seq) for seq in tokenizer.texts_to_sequences(train_data['context'])], 95)"
   ]
  },
  {
   "cell_type": "code",
   "execution_count": 8,
   "metadata": {
    "pycharm": {
     "name": "#%%\n"
    }
   },
   "outputs": [],
   "source": [
    "MAX_NB_WORDS = 20000\n",
    "MAX_SEQUENCE_LENGTH_RESPONSE = 65\n",
    "MAX_SEQUENCE_LENGTH_CONTEXT = 300\n",
    "MAX_SEQUENCE_LENGTH = MAX_SEQUENCE_LENGTH_RESPONSE + MAX_SEQUENCE_LENGTH_CONTEXT\n",
    "\n",
    "tokenizer = text.Tokenizer(num_words=MAX_NB_WORDS, lower = False)\n",
    "tokenizer.fit_on_texts(train_data['response'])\n",
    "tokenizer.fit_on_texts(train_data['context'])\n",
    "tokenizer.fit_on_texts(test_data['response'])\n",
    "tokenizer.fit_on_texts(test_data['context'])\n",
    "X_train_resp = sequence.pad_sequences(tokenizer.texts_to_sequences(train_data['response']), maxlen=MAX_SEQUENCE_LENGTH_RESPONSE)\n",
    "X_train_cont = sequence.pad_sequences(tokenizer.texts_to_sequences(train_data['context']), maxlen=MAX_SEQUENCE_LENGTH_CONTEXT)\n",
    "#X_train = np.hstack((X_train_resp, X_train_cont))\n",
    "X_test_resp = sequence.pad_sequences(tokenizer.texts_to_sequences(test_data['response']), maxlen=MAX_SEQUENCE_LENGTH_RESPONSE)\n",
    "X_test_cont = sequence.pad_sequences(tokenizer.texts_to_sequences(test_data['context']), maxlen=MAX_SEQUENCE_LENGTH_CONTEXT)\n",
    "#X_test = np.hstack((X_test_resp, X_test_cont))"
   ]
  },
  {
   "cell_type": "code",
   "execution_count": 9,
   "metadata": {
    "pycharm": {
     "name": "#%%\n"
    }
   },
   "outputs": [
    {
     "name": "stdout",
     "output_type": "stream",
     "text": [
      "Found 46985 unique tokens.\n"
     ]
    }
   ],
   "source": [
    "word_index = tokenizer.word_index\n",
    "print('Found %s unique tokens.' % len(word_index))"
   ]
  },
  {
   "cell_type": "code",
   "execution_count": 10,
   "metadata": {
    "pycharm": {
     "name": "#%%\n"
    }
   },
   "outputs": [],
   "source": [
    "EMBEDDING_DIM = glove_model.vector_size\n",
    "\n",
    "embedding_matrix = np.zeros((len(word_index) + 1, EMBEDDING_DIM))\n",
    "for word, i in word_index.items():\n",
    "    if word in glove_model.vocab:\n",
    "        embedding_matrix[i] = glove_model[word]"
   ]
  },
  {
   "cell_type": "code",
   "execution_count": 15,
   "metadata": {
    "pycharm": {
     "name": "#%%\n"
    }
   },
   "outputs": [
    {
     "name": "stdout",
     "output_type": "stream",
     "text": [
      "No of parameter: 4953702\n",
      "Model: \"functional_5\"\n",
      "__________________________________________________________________________________________________\n",
      "Layer (type)                    Output Shape         Param #     Connected to                     \n",
      "==================================================================================================\n",
      "input_5 (InputLayer)            [(8, 65)]            0                                            \n",
      "__________________________________________________________________________________________________\n",
      "input_6 (InputLayer)            [(8, 300)]           0                                            \n",
      "__________________________________________________________________________________________________\n",
      "embedding_4 (Embedding)         (8, 65, 50)          2349300     input_5[0][0]                    \n",
      "__________________________________________________________________________________________________\n",
      "embedding_5 (Embedding)         (8, 300, 50)         2349300     input_6[0][0]                    \n",
      "__________________________________________________________________________________________________\n",
      "concatenate_2 (Concatenate)     (8, 365, 50)         0           embedding_4[0][0]                \n",
      "                                                                 embedding_5[0][0]                \n",
      "__________________________________________________________________________________________________\n",
      "conv1d_4 (Conv1D)               (8, 363, 50)         7550        concatenate_2[0][0]              \n",
      "__________________________________________________________________________________________________\n",
      "conv1d_5 (Conv1D)               (8, 361, 50)         7550        conv1d_4[0][0]                   \n",
      "__________________________________________________________________________________________________\n",
      "dropout_2 (Dropout)             (8, 361, 50)         0           conv1d_5[0][0]                   \n",
      "__________________________________________________________________________________________________\n",
      "lstm_4 (LSTM)                   (8, 361, 128)        91648       dropout_2[0][0]                  \n",
      "__________________________________________________________________________________________________\n",
      "lstm_5 (LSTM)                   (8, 128)             131584      lstm_4[0][0]                     \n",
      "__________________________________________________________________________________________________\n",
      "dense_4 (Dense)                 (8, 128)             16512       lstm_5[0][0]                     \n",
      "__________________________________________________________________________________________________\n",
      "dense_5 (Dense)                 (8, 2)               258         dense_4[0][0]                    \n",
      "==================================================================================================\n",
      "Total params: 4,953,702\n",
      "Trainable params: 255,102\n",
      "Non-trainable params: 4,698,600\n",
      "__________________________________________________________________________________________________\n",
      "None\n"
     ]
    }
   ],
   "source": [
    "batch_size = 8\n",
    "input_response = keras.Input(batch_shape=(batch_size, MAX_SEQUENCE_LENGTH_RESPONSE), dtype=\"int32\")\n",
    "embed_response = layers.Embedding(len(word_index) + 1,\n",
    "                          EMBEDDING_DIM,\n",
    "                          weights=[embedding_matrix],\n",
    "                          input_length=MAX_SEQUENCE_LENGTH_RESPONSE,\n",
    "                          trainable=False)(input_response)\n",
    "input_context = keras.Input(batch_shape=(batch_size, MAX_SEQUENCE_LENGTH_CONTEXT), dtype=\"int32\")\n",
    "embed_context = layers.Embedding(len(word_index) + 1,\n",
    "                          EMBEDDING_DIM,\n",
    "                          weights=[embedding_matrix],\n",
    "                          input_length=MAX_SEQUENCE_LENGTH_CONTEXT,\n",
    "                          trainable=False)(input_context)\n",
    "x = layers.Concatenate(axis = 1)([embed_response ,embed_context])\n",
    "x = layers.Conv1D(EMBEDDING_DIM, 3, kernel_initializer='he_normal', padding='valid',\n",
    "                        activation='sigmoid')(x)\n",
    "x = layers.Conv1D(EMBEDDING_DIM, 3, kernel_initializer='he_normal', padding='valid',\n",
    "                        activation='sigmoid')(x)\n",
    "x = layers.Dropout(0.25)(x)\n",
    "x = layers.LSTM(128, kernel_initializer='he_normal', activation='sigmoid', dropout=0.5,\n",
    "               return_sequences=True)(x)\n",
    "x = layers.LSTM(128, kernel_initializer='he_normal', activation='sigmoid', dropout=0.5)(x)\n",
    "x = layers.Dense(128, kernel_initializer='he_normal', activation='sigmoid')(x)\n",
    "predictions = layers.Dense(2, activation='softmax')(x)\n",
    "model = keras.Model([input_response, input_context], predictions)\n",
    "model.compile(loss='binary_crossentropy', optimizer='adam', metrics=['accuracy'])\n",
    "print('No of parameter:', model.count_params())\n",
    "print(model.summary())"
   ]
  },
  {
   "cell_type": "code",
   "execution_count": 12,
   "metadata": {},
   "outputs": [
    {
     "data": {
      "image/png": "[encoded data removed]",
      "text/plain": [
       "<IPython.core.display.Image object>"
      ]
     },
     "execution_count": 12,
     "metadata": {},
     "output_type": "execute_result"
    }
   ],
   "source": [
    "keras.utils.plot_model(model, to_file='model.png')"
   ]
  },
  {
   "cell_type": "code",
   "execution_count": 16,
   "metadata": {
    "pycharm": {
     "name": "#%%\n"
    }
   },
   "outputs": [
    {
     "name": "stdout",
     "output_type": "stream",
     "text": [
      "500/500 [==============================] - 81s 162ms/step - loss: 0.6714 - accuracy: 0.6180 - val_loss: 1.1383 - val_accuracy: 0.0000e+00\n"
     ]
    },
    {
     "data": {
      "text/plain": [
       "<tensorflow.python.keras.callbacks.History at 0x7fb4e4ed0a60>"
      ]
     },
     "execution_count": 16,
     "metadata": {},
     "output_type": "execute_result"
    }
   ],
   "source": [
    "modelCheckpoint = ModelCheckpoint('best_sarcasm_model.hdf5', save_best_only = True)\n",
    "model.fit([X_train_resp, X_train_cont], y_train, batch_size=batch_size, epochs=100, validation_split=0.2 , shuffle=True, callbacks=[modelCheckpoint])"
   ]
  },
  {
   "cell_type": "code",
   "execution_count": null,
   "metadata": {},
   "outputs": [],
   "source": [
    "epochs = 100\n",
    "init_learning_rate = 1e-3\n",
    "\n",
    "input_response = keras.Input(batch_shape=(batch_size, MAX_SEQUENCE_LENGTH_RESPONSE), dtype=\"int32\")\n",
    "embed_response = layers.Embedding(len(word_index) + 1,\n",
    "                          EMBEDDING_DIM,\n",
    "                          weights=[embedding_matrix],\n",
    "                          input_length=MAX_SEQUENCE_LENGTH_RESPONSE,\n",
    "                          trainable=False)(input_response)\n",
    "input_context = keras.Input(batch_shape=(batch_size, MAX_SEQUENCE_LENGTH_CONTEXT), dtype=\"int32\")\n",
    "embed_context = layers.Embedding(len(word_index) + 1,\n",
    "                          EMBEDDING_DIM,\n",
    "                          weights=[embedding_matrix],\n",
    "                          input_length=MAX_SEQUENCE_LENGTH_CONTEXT,\n",
    "                          trainable=False)(input_context)\n",
    "x = layers.Concatenate(axis = 1)([embed_response ,embed_context])\n",
    "sentence_rep = layers.GRU(500)(x)\n",
    "h_sar = layers.Dense(300, activation='relu')(sentence_rep)\n",
    "h_sen = layers.Dense(300, activation='relu')(sentence_rep)\n",
    "\n",
    "\n",
    "\n",
    "sarcasmBranch = layers.Dense(2, activation='softmax', name=\"sarcasm_output\")(x)\n",
    "losses = {\n",
    "    \"sarcasm_output\": \"categorical_crossentropy\",\n",
    "    \"sentiment_output\": \"categorical_crossentropy\",\n",
    "}\n",
    "lossWeights = {\"sarcasm_output\": 2.0, \"sentiment_output\": 1.0}\n",
    "opt = Adam(lr=init_learning_rate, decay=init_learning_rate / epochs)\n",
    "model2 = keras.Model([input_response, input_context], outputs=[sarcasmBranch, sentimentBranch])\n",
    "model2.compile(loss=losses, lossWeights = lossWeights optimizer=opt, metrics=['accuracy'])\n",
    "print('No of parameter:', model.count_params())\n",
    "print(model2.summary())"
   ]
  }
 ],
 "metadata": {
  "kernelspec": {
   "display_name": "Python 3",
   "language": "python",
   "name": "python3"
  },
  "language_info": {
   "codemirror_mode": {
    "name": "ipython",
    "version": 3
   },
   "file_extension": ".py",
   "mimetype": "text/x-python",
   "name": "python",
   "nbconvert_exporter": "python",
   "pygments_lexer": "ipython3",
   "version": "3.8.2"
  }
 },
 "nbformat": 4,
 "nbformat_minor": 1
}
