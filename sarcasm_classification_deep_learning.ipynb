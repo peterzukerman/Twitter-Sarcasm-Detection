{
 "cells": [
  {
   "cell_type": "code",
   "execution_count": 1,
   "metadata": {
    "pycharm": {
     "name": "#%%\n"
    }
   },
   "outputs": [
    {
     "data": {
      "text/plain": [
       "(1193517, 200)"
      ]
     },
     "execution_count": 1,
     "metadata": {},
     "output_type": "execute_result"
    }
   ],
   "source": [
    "from gensim.scripts.glove2word2vec import glove2word2vec\n",
    "glove2word2vec(glove_input_file=\"embeddings/glove/glove.twitter.27B.200d.txt\", word2vec_output_file=\"embeddings/glove/gensim_glove.twitter.27B.200d.txt\")"
   ]
  },
  {
   "cell_type": "code",
   "execution_count": 2,
   "metadata": {},
   "outputs": [],
   "source": [
    "from gensim.models.keyedvectors import KeyedVectors\n",
    "glove_model = KeyedVectors.load_word2vec_format(\"embeddings/glove/gensim_glove.twitter.27B.200d.txt\", binary=False)"
   ]
  },
  {
   "cell_type": "code",
   "execution_count": 29,
   "metadata": {},
   "outputs": [],
   "source": [
    "import pandas as pd\n",
    "with open('data/train.jsonl') as f:\n",
    "    train_data = pd.read_json(f, lines=True)\n",
    "with open('data/test.jsonl') as f:\n",
    "    test_data = pd.read_json(f, lines=True)"
   ]
  },
  {
   "cell_type": "code",
   "execution_count": 30,
   "metadata": {},
   "outputs": [],
   "source": [
    "from sklearn import preprocessing\n",
    "le = preprocessing.LabelEncoder()\n",
    "y = le.fit_transform(train_data['label'])"
   ]
  },
  {
   "cell_type": "code",
   "execution_count": 31,
   "metadata": {},
   "outputs": [],
   "source": [
    "from nltk.tokenize import TweetTokenizer\n",
    "tokenizer = TweetTokenizer()\n",
    "train_data['response'] = train_data['response'].apply(tokenizer.tokenize)\n",
    "train_data['context'] = train_data['context'].str.join(' ').apply(tokenizer.tokenize)"
   ]
  },
  {
   "cell_type": "code",
   "execution_count": 32,
   "metadata": {},
   "outputs": [
    {
     "data": {
      "text/html": [
       "<div>\n",
       "<style scoped>\n",
       "    .dataframe tbody tr th:only-of-type {\n",
       "        vertical-align: middle;\n",
       "    }\n",
       "\n",
       "    .dataframe tbody tr th {\n",
       "        vertical-align: top;\n",
       "    }\n",
       "\n",
       "    .dataframe thead th {\n",
       "        text-align: right;\n",
       "    }\n",
       "</style>\n",
       "<table border=\"1\" class=\"dataframe\">\n",
       "  <thead>\n",
       "    <tr style=\"text-align: right;\">\n",
       "      <th></th>\n",
       "      <th>label</th>\n",
       "      <th>response</th>\n",
       "      <th>context</th>\n",
       "    </tr>\n",
       "  </thead>\n",
       "  <tbody>\n",
       "    <tr>\n",
       "      <th>0</th>\n",
       "      <td>SARCASM</td>\n",
       "      <td>[@USER, @USER, @USER, I, don't, get, this, ..,...</td>\n",
       "      <td>[A, minor, child, deserves, privacy, and, shou...</td>\n",
       "    </tr>\n",
       "    <tr>\n",
       "      <th>1</th>\n",
       "      <td>SARCASM</td>\n",
       "      <td>[@USER, @USER, trying, to, protest, about, ., ...</td>\n",
       "      <td>[@USER, @USER, Why, is, he, a, loser, ?, He's,...</td>\n",
       "    </tr>\n",
       "    <tr>\n",
       "      <th>2</th>\n",
       "      <td>SARCASM</td>\n",
       "      <td>[@USER, @USER, @USER, He, makes, an, insane, a...</td>\n",
       "      <td>[Donald, J, ., Trump, is, guilty, as, charged,...</td>\n",
       "    </tr>\n",
       "    <tr>\n",
       "      <th>3</th>\n",
       "      <td>SARCASM</td>\n",
       "      <td>[@USER, @USER, Meanwhile, Trump, won't, even, ...</td>\n",
       "      <td>[Jamie, Raskin, tanked, Doug, Collins, ., Coll...</td>\n",
       "    </tr>\n",
       "    <tr>\n",
       "      <th>4</th>\n",
       "      <td>SARCASM</td>\n",
       "      <td>[@USER, @USER, Pretty, Sure, the, Anti-Lincoln...</td>\n",
       "      <td>[Man, ..., y, ’, all, gone, “, both, sides, ”,...</td>\n",
       "    </tr>\n",
       "  </tbody>\n",
       "</table>\n",
       "</div>"
      ],
      "text/plain": [
       "     label                                           response  \\\n",
       "0  SARCASM  [@USER, @USER, @USER, I, don't, get, this, ..,...   \n",
       "1  SARCASM  [@USER, @USER, trying, to, protest, about, ., ...   \n",
       "2  SARCASM  [@USER, @USER, @USER, He, makes, an, insane, a...   \n",
       "3  SARCASM  [@USER, @USER, Meanwhile, Trump, won't, even, ...   \n",
       "4  SARCASM  [@USER, @USER, Pretty, Sure, the, Anti-Lincoln...   \n",
       "\n",
       "                                             context  \n",
       "0  [A, minor, child, deserves, privacy, and, shou...  \n",
       "1  [@USER, @USER, Why, is, he, a, loser, ?, He's,...  \n",
       "2  [Donald, J, ., Trump, is, guilty, as, charged,...  \n",
       "3  [Jamie, Raskin, tanked, Doug, Collins, ., Coll...  \n",
       "4  [Man, ..., y, ’, all, gone, “, both, sides, ”,...  "
      ]
     },
     "execution_count": 32,
     "metadata": {},
     "output_type": "execute_result"
    }
   ],
   "source": [
    "train_data.head()"
   ]
  },
  {
   "cell_type": "code",
   "execution_count": 74,
   "metadata": {},
   "outputs": [
    {
     "data": {
      "text/plain": [
       "<AxesSubplot:>"
      ]
     },
     "execution_count": 74,
     "metadata": {},
     "output_type": "execute_result"
    },
    {
     "data": {
      "image/png": "[encoded data removed]",
      "text/plain": [
       "<Figure size 432x288 with 1 Axes>"
      ]
     },
     "metadata": {
      "needs_background": "light"
     },
     "output_type": "display_data"
    }
   ],
   "source": [
    "train_data['response'].apply(len).hist()"
   ]
  },
  {
   "cell_type": "code",
   "execution_count": 75,
   "metadata": {},
   "outputs": [
    {
     "data": {
      "text/plain": [
       "<AxesSubplot:>"
      ]
     },
     "execution_count": 75,
     "metadata": {},
     "output_type": "execute_result"
    },
    {
     "data": {
      "image/png": "[encoded data removed]",
      "text/plain": [
       "<Figure size 432x288 with 1 Axes>"
      ]
     },
     "metadata": {
      "needs_background": "light"
     },
     "output_type": "display_data"
    }
   ],
   "source": [
    "train_data['context'].apply(len).hist()"
   ]
  },
  {
   "cell_type": "code",
   "execution_count": 41,
   "metadata": {},
   "outputs": [
    {
     "name": "stderr",
     "output_type": "stream",
     "text": [
      "/Users/astrok/opt/anaconda3/envs/py38/lib/python3.8/site-packages/sklearn/feature_extraction/text.py:484: UserWarning: The parameter 'token_pattern' will not be used since 'tokenizer' is not None'\n",
      "  warnings.warn(\"The parameter 'token_pattern' will not be used\"\n"
     ]
    },
    {
     "data": {
      "text/plain": [
       "CountVectorizer(max_df=0.5, min_df=5,\n",
       "                preprocessor=<function dummy at 0x7fa8a2bcdee0>,\n",
       "                tokenizer=<function dummy at 0x7fa8a2bcdee0>)"
      ]
     },
     "execution_count": 41,
     "metadata": {},
     "output_type": "execute_result"
    }
   ],
   "source": [
    "from sklearn.feature_extraction.text import CountVectorizer\n",
    "\n",
    "def dummy(doc):\n",
    "    return doc\n",
    "\n",
    "cv = CountVectorizer(\n",
    "        tokenizer=dummy,\n",
    "        preprocessor=dummy, min_df=5, max_df=0.5)  \n",
    "\n",
    "cv.fit(train_data['response'])\n",
    "cv.fit(train_data['context'])"
   ]
  },
  {
   "cell_type": "code",
   "execution_count": 46,
   "metadata": {},
   "outputs": [],
   "source": [
    "vocab = {key: idx for idx, key in enumerate(cv.vocabulary_.keys())}"
   ]
  },
  {
   "cell_type": "code",
   "execution_count": 67,
   "metadata": {},
   "outputs": [
    {
     "data": {
      "text/plain": [
       "7280"
      ]
     },
     "execution_count": 67,
     "metadata": {},
     "output_type": "execute_result"
    }
   ],
   "source": [
    "vocab_size = len(vocab)\n",
    "vocab_size"
   ]
  },
  {
   "cell_type": "code",
   "execution_count": 71,
   "metadata": {},
   "outputs": [],
   "source": [
    "import numpy as np\n",
    "emb_weights = np.zeros((len(vocab), glove_model.vector_size))\n",
    "for k, idx in vocab.items():\n",
    "    if k in glove_model.vocab:\n",
    "        emb_weights[idx, :] = glove_model[k]"
   ]
  },
  {
   "cell_type": "code",
   "execution_count": 72,
   "metadata": {},
   "outputs": [
    {
     "data": {
      "text/plain": [
       "(7280, 200)"
      ]
     },
     "execution_count": 72,
     "metadata": {},
     "output_type": "execute_result"
    }
   ],
   "source": [
    "emb_weights.shape"
   ]
  },
  {
   "cell_type": "code",
   "execution_count": 135,
   "metadata": {},
   "outputs": [],
   "source": [
    "train_data['response_vec'] = train_data['response'].apply(lambda tokens: [vocab[t] for t in tokens if t in vocab])"
   ]
  },
  {
   "cell_type": "code",
   "execution_count": 136,
   "metadata": {},
   "outputs": [],
   "source": [
    "maxlen = 300\n",
    "\n",
    "def truncate_vec(vec):\n",
    "    x = np.zeros(maxlen, dtype='float32')\n",
    "    np.put(x, np.arange(0, min(len(vec), maxlen)) ,vec[-maxlen:] if len(vec) > maxlen else vec)\n",
    "    return x\n",
    "    \n",
    "X = train_data['response_vec'].apply(truncate_vec)\n",
    "X = np.stack(X.to_numpy())"
   ]
  },
  {
   "cell_type": "code",
   "execution_count": 137,
   "metadata": {},
   "outputs": [],
   "source": [
    "from sklearn.model_selection import StratifiedShuffleSplit\n",
    "sss = StratifiedShuffleSplit(n_splits=1, test_size=0.3, random_state=0)\n",
    "train_index, test_index = next(sss.split(X, y))\n",
    "X_train, X_test = X[train_index], X[test_index]\n",
    "y_train, y_test = y[train_index], y[test_index]"
   ]
  },
  {
   "cell_type": "code",
   "execution_count": 83,
   "metadata": {},
   "outputs": [],
   "source": [
    "from keras.models import Sequential, model_from_json\n",
    "from keras.layers.core import Dropout, Dense, Activation, Flatten, Reshape\n",
    "from keras.layers.embeddings import Embedding\n",
    "from keras.layers.recurrent import LSTM\n",
    "from keras.layers.convolutional import Convolution1D, MaxPooling1D\n",
    "from keras.callbacks import ModelCheckpoint\n",
    "from keras.callbacks import EarlyStopping\n",
    "from keras.optimizers import Adam\n",
    "from keras.utils import np_utils\n",
    "from collections import defaultdict\n",
    "import tensorflow.keras.backend as K\n"
   ]
  },
  {
   "cell_type": "code",
   "execution_count": 73,
   "metadata": {
    "pycharm": {
     "name": "#%%\n"
    }
   },
   "outputs": [
    {
     "name": "stdout",
     "output_type": "stream",
     "text": [
      "No of parameter: 2755986\n",
      "Model: \"sequential_1\"\n",
      "_________________________________________________________________\n",
      "Layer (type)                 Output Shape              Param #   \n",
      "=================================================================\n",
      "embedding_1 (Embedding)      (None, 300, 200)          1456000   \n",
      "_________________________________________________________________\n",
      "conv1d (Conv1D)              (None, 298, 200)          120200    \n",
      "_________________________________________________________________\n",
      "conv1d_1 (Conv1D)            (None, 296, 200)          120200    \n",
      "_________________________________________________________________\n",
      "dropout (Dropout)            (None, 296, 200)          0         \n",
      "_________________________________________________________________\n",
      "lstm (LSTM)                  (None, 296, 256)          467968    \n",
      "_________________________________________________________________\n",
      "lstm_1 (LSTM)                (None, 256)               525312    \n",
      "_________________________________________________________________\n",
      "dense (Dense)                (None, 256)               65792     \n",
      "_________________________________________________________________\n",
      "dense_1 (Dense)              (None, 2)                 514       \n",
      "=================================================================\n",
      "Total params: 2,755,986\n",
      "Trainable params: 1,299,986\n",
      "Non-trainable params: 1,456,000\n",
      "_________________________________________________________________\n",
      "None\n"
     ]
    }
   ],
   "source": [
    "#https://github.com/AniSkywalker/SarcasmDetection/blob/master/src/sarcasm_detection_model_CNN_LSTM_DNN_word2vec.py\n",
    "hidden_units=256\n",
    "trainable=False\n",
    "\n",
    "\n",
    "model = Sequential()\n",
    "model.add(Embedding(vocab_size, emb_weights.shape[1], input_length=maxlen, weights=[emb_weights],\n",
    "                    trainable=trainable))\n",
    "\n",
    "# model.add(Reshape((maxlen, emb_weights.shape[1], 1)))\n",
    "\n",
    "model.add(Convolution1D(emb_weights.shape[1], 3, kernel_initializer='he_normal', padding='valid',\n",
    "                        activation='sigmoid',\n",
    "                        input_shape=(1, maxlen)))\n",
    "# model.add(MaxPooling1D(pool_size=3))\n",
    "\n",
    "model.add(Convolution1D(emb_weights.shape[1], 3, kernel_initializer='he_normal', padding='valid',\n",
    "                        activation='sigmoid',\n",
    "                        input_shape=(1, maxlen - 2)))\n",
    "# model.add(MaxPooling1D(pool_size=3))\n",
    "\n",
    "model.add(Dropout(0.25))\n",
    "\n",
    "model.add(LSTM(hidden_units, kernel_initializer='he_normal', activation='sigmoid', dropout=0.5,\n",
    "               return_sequences=True))\n",
    "model.add(LSTM(hidden_units, kernel_initializer='he_normal', activation='sigmoid', dropout=0.5))\n",
    "\n",
    "model.add(Dense(hidden_units, kernel_initializer='he_normal', activation='sigmoid'))\n",
    "model.add(Dense(2, activation='softmax'))\n",
    "adam = Adam(lr=0.0001)\n",
    "model.compile(loss='categorical_crossentropy', optimizer=adam, metrics=['accuracy'])\n",
    "print('No of parameter:', model.count_params())\n",
    "\n",
    "print(model.summary())"
   ]
  },
  {
   "cell_type": "code",
   "execution_count": null,
   "metadata": {
    "pycharm": {
     "name": "#%%\n"
    }
   },
   "outputs": [
    {
     "name": "stdout",
     "output_type": "stream",
     "text": [
      "Epoch 1/100\n",
      "438/438 [==============================] - 148s 338ms/step - loss: 0.7023 - accuracy: 0.4963 - val_loss: 0.6980 - val_accuracy: 0.5000\n",
      "Epoch 2/100\n",
      "438/438 [==============================] - 152s 347ms/step - loss: 0.6977 - accuracy: 0.4966 - val_loss: 0.7028 - val_accuracy: 0.5000\n",
      "Epoch 3/100\n",
      "438/438 [==============================] - 145s 331ms/step - loss: 0.6977 - accuracy: 0.4974 - val_loss: 0.7113 - val_accuracy: 0.5000\n",
      "Epoch 4/100\n",
      "438/438 [==============================] - 145s 330ms/step - loss: 0.7002 - accuracy: 0.4891 - val_loss: 0.6937 - val_accuracy: 0.5000\n",
      "Epoch 5/100\n",
      "438/438 [==============================] - 150s 342ms/step - loss: 0.6956 - accuracy: 0.5046 - val_loss: 0.6938 - val_accuracy: 0.5000\n",
      "Epoch 6/100\n",
      "438/438 [==============================] - 164s 373ms/step - loss: 0.6961 - accuracy: 0.4954 - val_loss: 0.6955 - val_accuracy: 0.5000\n",
      "Epoch 7/100\n",
      "438/438 [==============================] - 145s 332ms/step - loss: 0.6976 - accuracy: 0.4866 - val_loss: 0.6936 - val_accuracy: 0.5000\n",
      "Epoch 8/100\n",
      "438/438 [==============================] - 147s 335ms/step - loss: 0.6967 - accuracy: 0.5049 - val_loss: 0.6932 - val_accuracy: 0.5000\n",
      "Epoch 9/100\n",
      "438/438 [==============================] - 144s 329ms/step - loss: 0.6970 - accuracy: 0.4877 - val_loss: 0.6942 - val_accuracy: 0.5000\n",
      "Epoch 10/100\n",
      "438/438 [==============================] - 149s 341ms/step - loss: 0.6958 - accuracy: 0.4914 - val_loss: 0.6997 - val_accuracy: 0.5000\n",
      "Epoch 11/100\n",
      " 36/438 [=>............................] - ETA: 2:01 - loss: 0.6932 - accuracy: 0.5278"
     ]
    }
   ],
   "source": [
    "modelCheckpoint = ModelCheckpoint('best_sarcasm_model.hdf5', save_best_only = True)\n",
    "model.fit(K.constant(X_train), np_utils.to_categorical(y_train, num_classes = 2), batch_size=8, epochs=100, validation_data=(K.constant(X_test), np_utils.to_categorical(y_test, num_classes = 2)), shuffle=True, callbacks=[modelCheckpoint])"
   ]
  },
  {
   "cell_type": "code",
   "execution_count": 134,
   "metadata": {},
   "outputs": [
    {
     "data": {
      "text/plain": [
       "array([[ 153.,  126.,  115., ...,    0.,    0.,    0.],\n",
       "       [1794.,  293.,  701., ...,    0.,    0.,    0.],\n",
       "       [ 376.,   88.,  121., ...,    0.,    0.,    0.],\n",
       "       ...,\n",
       "       [1279., 1029.,  397., ...,    0.,    0.,    0.],\n",
       "       [   0.,  421.,   89., ...,    0.,    0.,    0.],\n",
       "       [6472.,  403.,  751., ...,    0.,    0.,    0.]], dtype=float32)"
      ]
     },
     "execution_count": 134,
     "metadata": {},
     "output_type": "execute_result"
    }
   ],
   "source": []
  }
 ],
 "metadata": {
  "kernelspec": {
   "display_name": "Python 3",
   "language": "python",
   "name": "python3"
  },
  "language_info": {
   "codemirror_mode": {
    "name": "ipython",
    "version": 3
   },
   "file_extension": ".py",
   "mimetype": "text/x-python",
   "name": "python",
   "nbconvert_exporter": "python",
   "pygments_lexer": "ipython3",
   "version": "3.8.5"
  }
 },
 "nbformat": 4,
 "nbformat_minor": 1
}
